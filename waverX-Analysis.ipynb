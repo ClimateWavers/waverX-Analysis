{
 "cells": [
  {
   "cell_type": "markdown",
   "id": "01689f4d-e9b2-43c0-b5a1-409864eaab94",
   "metadata": {},
   "source": [
    "# Climate Wavers Disaster Magnitude Analysis Model\n",
    "##       waverX-Analysis"
   ]
  },
  {
   "cell_type": "markdown",
   "id": "1751fb89-ac3e-4788-b2ab-adcab93aff6d",
   "metadata": {},
   "source": [
    "## Install Requirements\n",
    "- pandas\n",
    "- numpy\n",
    "- matplotlib\n",
    "- scikit-learn\n",
    "- joblib\n",
    "- modin\n",
    "- flask\n",
    "- flask_cors\n",
    "- gunicorn\n",
    "- requests"
   ]
  },
  {
   "cell_type": "code",
   "execution_count": 1,
   "id": "690ab9fd-241c-4004-8d6e-348287488597",
   "metadata": {},
   "outputs": [
    {
     "name": "stdout",
     "output_type": "stream",
     "text": [
      "Requirement already satisfied: pandas in /opt/app-root/miniconda3/envs/oneAPI-AIKit-MLPackage/lib/python3.7/site-packages (from -r requirements.txt (line 1)) (1.3.4)\n",
      "Requirement already satisfied: numpy in /opt/app-root/miniconda3/envs/oneAPI-AIKit-MLPackage/lib/python3.7/site-packages (from -r requirements.txt (line 2)) (1.20.3)\n",
      "Requirement already satisfied: matplotlib in /opt/app-root/miniconda3/envs/oneAPI-AIKit-MLPackage/lib/python3.7/site-packages (from -r requirements.txt (line 3)) (3.5.1)\n",
      "Requirement already satisfied: scikit-learn in /opt/app-root/miniconda3/envs/oneAPI-AIKit-MLPackage/lib/python3.7/site-packages (from -r requirements.txt (line 4)) (0.24.2)\n",
      "Requirement already satisfied: joblib in /opt/app-root/miniconda3/envs/oneAPI-AIKit-MLPackage/lib/python3.7/site-packages (from -r requirements.txt (line 5)) (1.0.1)\n",
      "Requirement already satisfied: modin in /opt/app-root/miniconda3/envs/oneAPI-AIKit-MLPackage/lib/python3.7/site-packages (from -r requirements.txt (line 6)) (0.11.3)\n",
      "Collecting flask\n",
      "  Downloading Flask-2.2.5-py3-none-any.whl (101 kB)\n",
      "\u001b[K     |████████████████████████████████| 101 kB 21.1 MB/s ta 0:00:01\n",
      "\u001b[?25hCollecting flask_cors\n",
      "  Downloading Flask_Cors-4.0.0-py2.py3-none-any.whl (14 kB)\n",
      "Collecting gunicorn\n",
      "  Downloading gunicorn-21.2.0-py3-none-any.whl (80 kB)\n",
      "\u001b[K     |████████████████████████████████| 80 kB 77.6 MB/s eta 0:00:01\n",
      "\u001b[?25hCollecting requests\n",
      "  Downloading requests-2.31.0-py3-none-any.whl (62 kB)\n",
      "\u001b[K     |████████████████████████████████| 62 kB 38.7 MB/s eta 0:00:01\n",
      "\u001b[?25hRequirement already satisfied: python-dateutil>=2.7.3 in /opt/app-root/miniconda3/envs/oneAPI-AIKit-MLPackage/lib/python3.7/site-packages (from pandas->-r requirements.txt (line 1)) (2.8.2)\n",
      "Requirement already satisfied: pytz>=2017.3 in /opt/app-root/miniconda3/envs/oneAPI-AIKit-MLPackage/lib/python3.7/site-packages (from pandas->-r requirements.txt (line 1)) (2021.3)\n",
      "Requirement already satisfied: cycler>=0.10 in /opt/app-root/miniconda3/envs/oneAPI-AIKit-MLPackage/lib/python3.7/site-packages (from matplotlib->-r requirements.txt (line 3)) (0.11.0)\n",
      "Requirement already satisfied: kiwisolver>=1.0.1 in /opt/app-root/miniconda3/envs/oneAPI-AIKit-MLPackage/lib/python3.7/site-packages (from matplotlib->-r requirements.txt (line 3)) (1.4.2)\n",
      "Requirement already satisfied: fonttools>=4.22.0 in /opt/app-root/miniconda3/envs/oneAPI-AIKit-MLPackage/lib/python3.7/site-packages (from matplotlib->-r requirements.txt (line 3)) (4.25.0)\n",
      "Requirement already satisfied: pyparsing>=2.2.1 in /opt/app-root/miniconda3/envs/oneAPI-AIKit-MLPackage/lib/python3.7/site-packages (from matplotlib->-r requirements.txt (line 3)) (3.0.4)\n",
      "Requirement already satisfied: pillow>=6.2.0 in /opt/app-root/miniconda3/envs/oneAPI-AIKit-MLPackage/lib/python3.7/site-packages (from matplotlib->-r requirements.txt (line 3)) (8.3.1)\n",
      "Requirement already satisfied: packaging>=20.0 in /opt/app-root/miniconda3/envs/oneAPI-AIKit-MLPackage/lib/python3.7/site-packages (from matplotlib->-r requirements.txt (line 3)) (21.3)\n",
      "Requirement already satisfied: scipy>=0.19.1 in /opt/app-root/miniconda3/envs/oneAPI-AIKit-MLPackage/lib/python3.7/site-packages (from scikit-learn->-r requirements.txt (line 4)) (1.6.2)\n",
      "Requirement already satisfied: threadpoolctl>=2.0.0 in /opt/app-root/miniconda3/envs/oneAPI-AIKit-MLPackage/lib/python3.7/site-packages (from scikit-learn->-r requirements.txt (line 4)) (2.2.0)\n",
      "Collecting Werkzeug>=2.2.2\n",
      "  Downloading Werkzeug-2.2.3-py3-none-any.whl (233 kB)\n",
      "\u001b[K     |████████████████████████████████| 233 kB 77.3 MB/s eta 0:00:01\n",
      "\u001b[?25hRequirement already satisfied: click>=8.0 in /opt/app-root/miniconda3/envs/oneAPI-AIKit-MLPackage/lib/python3.7/site-packages (from flask->-r requirements.txt (line 7)) (8.0.3)\n",
      "Requirement already satisfied: Jinja2>=3.0 in /opt/app-root/miniconda3/envs/oneAPI-AIKit-MLPackage/lib/python3.7/site-packages (from flask->-r requirements.txt (line 7)) (3.0.1)\n",
      "Collecting itsdangerous>=2.0\n",
      "  Downloading itsdangerous-2.1.2-py3-none-any.whl (15 kB)\n",
      "Collecting importlib-metadata>=3.6.0\n",
      "  Downloading importlib_metadata-6.7.0-py3-none-any.whl (22 kB)\n",
      "Collecting urllib3<3,>=1.21.1\n",
      "  Downloading urllib3-2.0.7-py3-none-any.whl (124 kB)\n",
      "\u001b[K     |████████████████████████████████| 124 kB 102.5 MB/s eta 0:00:01\n",
      "\u001b[?25hRequirement already satisfied: certifi>=2017.4.17 in /opt/app-root/miniconda3/envs/oneAPI-AIKit-MLPackage/lib/python3.7/site-packages (from requests->-r requirements.txt (line 10)) (2022.9.14)\n",
      "Collecting idna<4,>=2.5\n",
      "  Downloading idna-3.4-py3-none-any.whl (61 kB)\n",
      "\u001b[K     |████████████████████████████████| 61 kB 7.3 MB/s  eta 0:00:01\n",
      "\u001b[?25hCollecting charset-normalizer<4,>=2\n",
      "  Downloading charset_normalizer-3.3.2-cp37-cp37m-manylinux_2_17_x86_64.manylinux2014_x86_64.whl (136 kB)\n",
      "\u001b[K     |████████████████████████████████| 136 kB 105.9 MB/s eta 0:00:01\n",
      "\u001b[?25hRequirement already satisfied: typing-extensions>=3.6.4 in /opt/app-root/miniconda3/envs/oneAPI-AIKit-MLPackage/lib/python3.7/site-packages (from importlib-metadata>=3.6.0->flask->-r requirements.txt (line 7)) (4.1.1)\n",
      "Collecting zipp>=0.5\n",
      "  Downloading zipp-3.15.0-py3-none-any.whl (6.8 kB)\n",
      "Requirement already satisfied: MarkupSafe>=2.0 in /opt/app-root/miniconda3/envs/oneAPI-AIKit-MLPackage/lib/python3.7/site-packages (from Jinja2>=3.0->flask->-r requirements.txt (line 7)) (2.0.1)\n",
      "Requirement already satisfied: six>=1.5 in /opt/app-root/miniconda3/envs/oneAPI-AIKit-MLPackage/lib/python3.7/site-packages (from python-dateutil>=2.7.3->pandas->-r requirements.txt (line 1)) (1.16.0)\n",
      "Collecting MarkupSafe>=2.0\n",
      "  Downloading MarkupSafe-2.1.3-cp37-cp37m-manylinux_2_17_x86_64.manylinux2014_x86_64.whl (25 kB)\n",
      "Installing collected packages: zipp, MarkupSafe, importlib-metadata, Werkzeug, itsdangerous, urllib3, idna, flask, charset-normalizer, requests, gunicorn, flask-cors\n",
      "  Attempting uninstall: MarkupSafe\n",
      "    Found existing installation: MarkupSafe 2.0.1\n",
      "    Uninstalling MarkupSafe-2.0.1:\n",
      "      Successfully uninstalled MarkupSafe-2.0.1\n",
      "Successfully installed MarkupSafe-2.1.3 Werkzeug-2.2.3 charset-normalizer-3.3.2 flask-2.2.5 flask-cors-4.0.0 gunicorn-21.2.0 idna-3.4 importlib-metadata-6.7.0 itsdangerous-2.1.2 requests-2.31.0 urllib3-2.0.7 zipp-3.15.0\n"
     ]
    }
   ],
   "source": [
    "!pip install -r requirements.txt"
   ]
  },
  {
   "cell_type": "markdown",
   "id": "49ed410a-9525-4032-a540-663e80735bdd",
   "metadata": {},
   "source": [
    "## Data Preparation\n",
    "\n",
    "Historical disasters data from 2000 - 2023 was pulled from the NOAA site to use for this model"
   ]
  },
  {
   "cell_type": "markdown",
   "id": "e21f3083-9fdf-4096-90b5-40b4fae8b59d",
   "metadata": {},
   "source": [
    "### Data Cleaning\n",
    "Historical dataset was cleaned off rows without values for Longitude and Latitude columns"
   ]
  },
  {
   "cell_type": "code",
   "execution_count": 60,
   "id": "9c047271-5156-4889-8509-a6f479b01ff0",
   "metadata": {},
   "outputs": [
    {
     "name": "stdout",
     "output_type": "stream",
     "text": [
      "Cleaned disasters historical data saved to dataset/historical-disasters.csv\n"
     ]
    }
   ],
   "source": [
    "# Clean the dataset by filtering out rows with missing or empty longitude and latitude values\n",
    "import pandas as pd\n",
    "\n",
    "\n",
    "def clean_disaster_csv(file):\n",
    "    # Read CSV file into a DataFrame\n",
    "    df = pd.read_csv(file)\n",
    "\n",
    "    # Drop rows where longitude or latitude column has missing values\n",
    "    cleaned_df = df.dropna(subset=['Longitude', 'Latitude'])\n",
    "\n",
    "    # Write cleaned DataFrame back to a CSV file\n",
    "    cleaned_df.to_csv(file, index=False)\n",
    "\n",
    "    print(f\"Cleaned disasters historical data saved to {file}\")\n",
    "\n",
    "\n",
    "# Example usage\n",
    "if __name__ == \"__main__\":\n",
    "    # Provide input and output file paths\n",
    "    base_dir = 'dataset/'\n",
    "    disaster_dataset = f\"{base_dir}historical-disasters.csv\"\n",
    "    # Clean the CSV file\n",
    "    clean_disaster_csv(disaster_dataset)\n"
   ]
  },
  {
   "cell_type": "markdown",
   "id": "847cb0cd-1c4c-478f-bc48-ac8c95cb8ce0",
   "metadata": {},
   "source": [
    "### Dataset Building\n",
    "Dataset was built buy fetching climate data at the time of disasters from visual crossing API"
   ]
  },
  {
   "cell_type": "code",
   "execution_count": null,
   "id": "53e57a2f-e33b-40b8-9ca5-6986f2c1b1ee",
   "metadata": {},
   "outputs": [],
   "source": [
    "import pandas as pd\n",
    "import requests\n",
    "from io import StringIO\n",
    "import asyncio\n",
    "\n",
    "\"\"\"\n",
    "Fetch climate data at the time of past disasters using the NOAA Climate Data API\n",
    "to use as our training dataset\n",
    "\"\"\"\n",
    "\n",
    "# NOAA Climate Data API URL\n",
    "API_URL = 'https://weather.visualcrossing.com/VisualCrossingWebServices/rest/services/weatherdata/history/'\n",
    "API_KEY = ''  # API key\n",
    "\n",
    "\n",
    "async def fetch_disasters_climate_data() -> bool:\n",
    "    # Disaster types files to get data\n",
    "    try:\n",
    "        # Check if file alrady exist and continue fetching\n",
    "        climate_dataset_df = pd.read_csv(\"dataset/\" + \"climate_data.csv\")\n",
    "    except Exception:\n",
    "        # Else create a new dataframe\n",
    "        climate_dataset_df = pd.DataFrame([[\"Disaster Type\", \"Magnitude\", \"Magnitude Scale\", \"Minimum Temperature\", \"Maximum Temperature\", \"Dew Point\", \"Temperature\", \"Wind Speed Min\", \"Wind Speed Max\",\n",
    "                                      \"Wind Speed Mean\", \"Wind Direction\", \"Relative Humidity Min\", \"Relative Humidity Max\", \"Relative Humidity Mean\", \"Weather Type\", \"Precipitation\", \"Cloud Cover\", \"Sea Level Pressure\", \"Precipitation Cover\"]])\n",
    "    # Specify the index from which you want to start or continue fetching data\n",
    "    start_index = 778\n",
    "\n",
    "    # Read the CSV file and skip the rows before the start_index\n",
    "    df = pd.read_csv(f'dataset/historical-disasters.csv', skiprows=range(1, start_index))\n",
    "    # Iterate through the DataFrame using iterrows()\n",
    "    climate_dataset_df.to_csv(\"dataset/\" + \"climate_data.csv\", index=False)\n",
    "\n",
    "\n",
    "    for index, row in df.iterrows():\n",
    "        # Access columns using column names\n",
    "        start_year = row['Start Year']\n",
    "        start_month = row['Start Month']\n",
    "        start_day = row['Start Day']\n",
    "        end_year = row['End Year']\n",
    "        end_month = row['End Month']\n",
    "        end_day = row['End Day']\n",
    "        if pd.isna(end_day) or pd.isna(start_day):\n",
    "            continue\n",
    "        if pd.isna(end_month) or pd.isna(start_month):\n",
    "            continue\n",
    "        print(f\"Pulling historical climate data for disaster on {start_year}-{start_month}-{start_day}\")\n",
    "        start_date = \"{}-{:02d}-{:02d}T00:00:00\".format(\n",
    "        start_year, int(start_month), int(start_day))\n",
    "        end_date = \"{}-{:02d}-{:02d}T23:59:59\".format(\n",
    "        end_year, int(end_month), int(end_day))\n",
    "\n",
    "        params = {\n",
    "            # first location of disaster\n",
    "            \"location\": f\"{row['Latitude']},{row['Longitude']}\",\n",
    "            \"startDateTime\": start_date,  # start date of disaster\n",
    "            \"endDateTime\": end_date,  # end date of disaster\n",
    "            \"key\": API_KEY,\n",
    "            \"aggregateHours\": 24,\n",
    "            \"extendedStats\": \"true\",\n",
    "            \"includeAstronomy\": \"true\",\n",
    "            \"contentType\": \"csv\",\n",
    "\n",
    "        }\n",
    "        climate_data_req = requests.get(API_URL, params=params)\n",
    "        if climate_data_req.status_code != 200:\n",
    "            print(\"Failed\")\n",
    "            continue\n",
    "        print(\"Data pulled successfully\")\n",
    "        climate_data_req = climate_data_req.text\n",
    "        climate_data_csv = StringIO(climate_data_req)\n",
    "        data_df = pd.read_csv(climate_data_csv)\n",
    "        # Filter specific columns\n",
    "        filtered_df = data_df[[\"Minimum Temperature\", \"Maximum Temperature\", \"Dew Point\", \"Temperature\", \"Wind Speed Min\", \"Wind Speed Max\",\n",
    "                          \"Wind Speed Mean\", \"Wind Direction\", \"Relative Humidity Min\", \"Relative Humidity Max\", \"Relative Humidity Mean\", \"Weather Type\", \"Precipitation\", \"Cloud Cover\", \"Sea Level Pressure\", \"Precipitation Cover\"]]\n",
    "        filtered_df.insert(0, \"Disaster Type\", row[\"Disaster Type\"])\n",
    "        filtered_df.insert(1, \"Magnitude\", row[\"Magnitude\"])\n",
    "        filtered_df.insert(2, \"Magnitude Scale\", row[\"Magnitude Scale\"])\n",
    "\n",
    "        print(index)\n",
    "        filtered_df.to_csv(\"dataset/\" + \"climate_data.csv\", mode='a', header=False, index=False)\n",
    "\n",
    "\n",
    "    return True\n",
    "\n",
    "if __name__ == \"__main__\":\n",
    "    asyncio.run(fetch_disasters_climate_data())\n"
   ]
  },
  {
   "cell_type": "markdown",
   "id": "fe2b3fd7-3cfc-4987-b943-8b8dd1d1736b",
   "metadata": {},
   "source": [
    "## Dataset Cleaning\n",
    "Clean rows with null and empty values"
   ]
  },
  {
   "cell_type": "code",
   "execution_count": 90,
   "id": "d54ad564-4d3e-41b7-ba6c-05ccd51fbbea",
   "metadata": {},
   "outputs": [
    {
     "name": "stdout",
     "output_type": "stream",
     "text": [
      "Cleaned climate dataset in dataset/climate_data.csv\n"
     ]
    }
   ],
   "source": [
    "import pandas as pd\n",
    "\n",
    "def clean_climate_csv(file):\n",
    "    # Read CSV file into a DataFrame\n",
    "    df = pd.read_csv(file)\n",
    "    # Drop null values\n",
    "    df.dropna(inplace=True)\n",
    "    # Write cleaned DataFrame back to a CSV file\n",
    "    print(f\"Cleaned climate dataset in {file}\")\n",
    "    df.to_csv(file, index=False)\n",
    "\n",
    "    # Example usage\n",
    "if __name__ == \"__main__\":\n",
    "    # Modify file path to your dataset location  \n",
    "    base_dir = 'dataset/'\n",
    "    clean_climate_csv(f\"{base_dir}climate_data.csv\")\n",
    "    "
   ]
  },
  {
   "cell_type": "markdown",
   "id": "33f392e5-02cc-42ce-8525-b8d4f67a9287",
   "metadata": {},
   "source": [
    "### Data Balancing\n",
    "Balance disaster magnitude to ensure data magnitude are in same range regardless of their types according to their severity. Flood values in km2 will be divided by highest Km2 value of flood occurred and Storms magnitude in kph will be divided by highest Kph value of storm in dataset and Earthquake richter values divided by 9, highest seen richter value. This values are gotten from analysing data to get the relationship between disaster magnitude scales"
   ]
  },
  {
   "cell_type": "code",
   "execution_count": 91,
   "id": "6fe0f853-16ed-4906-9f0c-c27550879120",
   "metadata": {},
   "outputs": [
    {
     "name": "stdout",
     "output_type": "stream",
     "text": [
      "Data balanced\n"
     ]
    }
   ],
   "source": [
    "import pandas as pd\n",
    "\n",
    "df = pd.read_csv(\"dataset/climate_data.csv\")\n",
    "\n",
    "\n",
    "def balance_data(row):\n",
    "    if row['Magnitude Scale'] == \"Km2\":\n",
    "        return row['Magnitude'] / 1600000\n",
    "    elif row['Magnitude Scale'] == \"Kph\":\n",
    "        return row['Magnitude'] / 300\n",
    "    elif row['Magnitude Scale'] == \"Richter\":\n",
    "        return row['Magnitude'] / 9\n",
    "    else:\n",
    "        return row['Magnitude']\n",
    "\n",
    "df['Magnitude'] = df.apply(lambda row: balance_data(row), axis=1)\n",
    "\n",
    "df.reset_index(drop=True)\n",
    "\n",
    "df.to_csv(\"dataset/balanced_climate_data.csv\", index=False)\n",
    "\n",
    "print(\"Data balanced\")\n"
   ]
  },
  {
   "cell_type": "markdown",
   "id": "018bec25-393d-48d6-848a-337d8d5f3f44",
   "metadata": {},
   "source": [
    "## Model Building and Optimizing with Intel Extension"
   ]
  },
  {
   "cell_type": "code",
   "execution_count": 67,
   "id": "59c20207-c789-4c90-83c9-2cf041891f4d",
   "metadata": {},
   "outputs": [
    {
     "name": "stderr",
     "output_type": "stream",
     "text": [
      "Intel(R) Extension for Scikit-learn* enabled (https://github.com/intel/scikit-learn-intelex)\n"
     ]
    },
    {
     "name": "stdout",
     "output_type": "stream",
     "text": [
      "[0.00322094 0.04842581 0.03487438 ... 0.01325493 0.01258223 0.04101012]\n"
     ]
    }
   ],
   "source": [
    "# Import necessary libraries\n",
    "import os\n",
    "import modin.pandas as pd\n",
    "import modin.config as cfg\n",
    "import numpy as np\n",
    "cfg.Engine.put('Ray') \n",
    "\n",
    "from sklearn.model_selection import train_test_split\n",
    "from sklearn.ensemble import RandomForestRegressor\n",
    "from sklearn.preprocessing import LabelEncoder\n",
    "from sklearnex import patch_sklearn\n",
    "from sklearn import config_context\n",
    "from sklearn.metrics import mean_squared_error, r2_score\n",
    "import joblib\n",
    "\n",
    "\n",
    "\n",
    "    \n",
    "patch_sklearn()\n",
    "\n",
    "# Load disaster climate data\n",
    "climate_df = pd.read_csv(\"dataset/balanced_climate_data.csv\")\n",
    "\n",
    "# Drop NaN values\n",
    "climate_df.dropna(inplace=True)\n",
    "\n",
    "# Encode  string values\n",
    "label_encoder = LabelEncoder()\n",
    "climate_df['Encoded Magnitude Scale'] = label_encoder.fit_transform(climate_df['Magnitude Scale'])\n",
    "climate_df['Encoded Disaster Type'] = label_encoder.fit_transform(climate_df['Disaster Type'])\n",
    "climate_df['Encoded Weather Type'] = label_encoder.fit_transform(climate_df['Weather Type'])\n",
    "\n",
    "training_mse = []\n",
    "training_cod = []\n",
    "mse_values = []\n",
    "cod_values = []\n",
    "# Prepare features and labels\n",
    "y = climate_df[\"Magnitude\"]\n",
    "X = climate_df.drop(columns=[\"Magnitude\", \"Magnitude Scale\",\"Disaster Type\", \"Weather Type\"], axis=1)\n",
    "\n",
    "N_RUNS = 50\n",
    "TRAIN_SIZE = 0.9\n",
    "random_state = 777\n",
    "\n",
    "X = np.ascontiguousarray(X, dtype=np.float64)\n",
    "y = np.ascontiguousarray(y, dtype=np.float64)\n",
    "\n",
    "N_RUNS = 50\n",
    "\n",
    "# Train with Random Forest Regression\n",
    "rf = RandomForestRegressor(n_estimators=100)\n",
    "\n",
    "# cross validation\n",
    "for i in range(N_RUNS):\n",
    "    # Split the data into training and testing sets\n",
    "    X_train, X_test, y_train, y_test = train_test_split(X, y, train_size=TRAIN_SIZE,\n",
    "                                                        random_state=random_state)\n",
    "    random_state += 777\n",
    "\n",
    "    # training\n",
    "    with config_context(assume_finite=True):\n",
    "        model = rf.fit(X_train, y_train)\n",
    "\n",
    "    # inference\n",
    "    y_train_pred = model.predict(X_train)\n",
    "    y_pred = model.predict(X_test)\n",
    "    \n",
    "    training_mse.append(mean_squared_error(y_train, y_train_pred))\n",
    "    training_cod.append(r2_score(y_train, y_train_pred))    \n",
    "    \n",
    "    mse_values.append(mean_squared_error(y_test, y_pred))\n",
    "    cod_values.append(r2_score(y_test, y_pred))\n",
    "\n",
    "# Save the model to a file\n",
    "joblib.dump(model, 'model/waverX-Analysis.pkl')\n",
    "print( y_train_pred)\n"
   ]
  },
  {
   "cell_type": "markdown",
   "id": "226be709-59f9-4b8a-b822-1be621150b61",
   "metadata": {},
   "source": [
    "## Evaluate Model"
   ]
  },
  {
   "cell_type": "code",
   "execution_count": 68,
   "id": "747fa311-2f01-4bee-a3d5-7c334976ff3c",
   "metadata": {},
   "outputs": [
    {
     "data": {
      "text/html": [
       "<div>\n",
       "<style scoped>\n",
       "    .dataframe tbody tr th:only-of-type {\n",
       "        vertical-align: middle;\n",
       "    }\n",
       "\n",
       "    .dataframe tbody tr th {\n",
       "        vertical-align: top;\n",
       "    }\n",
       "\n",
       "    .dataframe thead th {\n",
       "        text-align: right;\n",
       "    }\n",
       "</style>\n",
       "<table border=\"1\" class=\"dataframe\">\n",
       "  <thead>\n",
       "    <tr style=\"text-align: right;\">\n",
       "      <th></th>\n",
       "      <th>Method</th>\n",
       "      <th>Training MSE</th>\n",
       "      <th>Test MSE</th>\n",
       "      <th>Training R2</th>\n",
       "      <th>Test R2</th>\n",
       "    </tr>\n",
       "  </thead>\n",
       "  <tbody>\n",
       "    <tr>\n",
       "      <th>0</th>\n",
       "      <td>Random Forest</td>\n",
       "      <td>1.029252</td>\n",
       "      <td>4.283256</td>\n",
       "      <td>0.956761</td>\n",
       "      <td>-27.424645</td>\n",
       "    </tr>\n",
       "  </tbody>\n",
       "</table>\n",
       "</div>"
      ],
      "text/plain": [
       "          Method Training MSE  Test MSE Training R2    Test R2\n",
       "0  Random Forest     1.029252  4.283256    0.956761 -27.424645"
      ]
     },
     "execution_count": 68,
     "metadata": {},
     "output_type": "execute_result"
    }
   ],
   "source": [
    "\n",
    "rf_train_mse = sum(training_mse)/len(training_mse)\n",
    "rf_train_r2 = sum(training_cod)/len(training_cod)\n",
    "\n",
    "rf_test_mse = sum(mse_values)/len(mse_values)\n",
    "rf_test_r2 = sum(cod_values)/len(cod_values)\n",
    "\n",
    "rf_result = pd.DataFrame(['Random Forest', rf_train_mse, rf_test_mse, rf_train_r2, rf_test_r2]).transpose()\n",
    "rf_result.columns = [\"Method\", \"Training MSE\", \"Test MSE\", \"Training R2\", \"Test R2\"]\n",
    "rf_result"
   ]
  },
  {
   "cell_type": "markdown",
   "id": "764e0ca7-7be8-4050-ae6c-f5227e563f11",
   "metadata": {},
   "source": [
    "## Data Visualization\n"
   ]
  },
  {
   "cell_type": "code",
   "execution_count": 69,
   "id": "2a9e1264-54ef-4eb9-8c73-91c0d14a563b",
   "metadata": {},
   "outputs": [
    {
     "data": {
      "text/plain": [
       "Text(0.5, 0, 'Past Disasters Magnitude')"
      ]
     },
     "execution_count": 69,
     "metadata": {},
     "output_type": "execute_result"
    },
    {
     "data": {
      "image/png": "[encoded data removed]",
      "text/plain": [
       "<Figure size 640x480 with 1 Axes>"
      ]
     },
     "metadata": {},
     "output_type": "display_data"
    }
   ],
   "source": [
    "import matplotlib.pyplot as plt\n",
    "plt.scatter(x=y_train, y=y_train_pred, alpha=0.3)\n",
    "plt.plot\n",
    "plt.ylabel(\"Predicted Disasters Magnitude\")\n",
    "plt.xlabel(\"Past Disasters Magnitude\")"
   ]
  },
  {
   "cell_type": "markdown",
   "id": "d9694ab6-9e1a-493d-be6b-57d71c3e7aee",
   "metadata": {},
   "source": [
    "## Inference "
   ]
  },
  {
   "cell_type": "code",
   "execution_count": 39,
   "id": "6a8137c9-0a07-41b9-a2ec-0c93be9225cb",
   "metadata": {},
   "outputs": [],
   "source": []
  },
  {
   "cell_type": "code",
   "execution_count": 13,
   "id": "7f34603d-35fc-4884-a1d4-b610db3b1d98",
   "metadata": {},
   "outputs": [
    {
     "name": "stdout",
     "output_type": "stream",
     "text": [
      "Data pulled successfully\n",
      "waverX-Analysis model prediction for Flood\n",
      "Minimum predicted magnitude: 480 Km2\n",
      "Maximum predicted magnitude: 721 Km2\n"
     ]
    },
    {
     "name": "stderr",
     "output_type": "stream",
     "text": [
      "/opt/app-root/miniconda3/envs/oneAPI-AIKit-MLPackage/lib/python3.7/site-packages/pandas/core/frame.py:5047: SettingWithCopyWarning: \n",
      "A value is trying to be set on a copy of a slice from a DataFrame\n",
      "\n",
      "See the caveats in the documentation: https://pandas.pydata.org/pandas-docs/stable/user_guide/indexing.html#returning-a-view-versus-a-copy\n",
      "  errors=errors,\n",
      "/opt/app-root/miniconda3/envs/oneAPI-AIKit-MLPackage/lib/python3.7/site-packages/ipykernel_launcher.py:73: SettingWithCopyWarning: \n",
      "A value is trying to be set on a copy of a slice from a DataFrame.\n",
      "Try using .loc[row_indexer,col_indexer] = value instead\n",
      "\n",
      "See the caveats in the documentation: https://pandas.pydata.org/pandas-docs/stable/user_guide/indexing.html#returning-a-view-versus-a-copy\n",
      "/opt/app-root/miniconda3/envs/oneAPI-AIKit-MLPackage/lib/python3.7/site-packages/ipykernel_launcher.py:74: SettingWithCopyWarning: \n",
      "A value is trying to be set on a copy of a slice from a DataFrame.\n",
      "Try using .loc[row_indexer,col_indexer] = value instead\n",
      "\n",
      "See the caveats in the documentation: https://pandas.pydata.org/pandas-docs/stable/user_guide/indexing.html#returning-a-view-versus-a-copy\n",
      "/opt/app-root/miniconda3/envs/oneAPI-AIKit-MLPackage/lib/python3.7/site-packages/ipykernel_launcher.py:75: SettingWithCopyWarning: \n",
      "A value is trying to be set on a copy of a slice from a DataFrame.\n",
      "Try using .loc[row_indexer,col_indexer] = value instead\n",
      "\n",
      "See the caveats in the documentation: https://pandas.pydata.org/pandas-docs/stable/user_guide/indexing.html#returning-a-view-versus-a-copy\n",
      "/opt/app-root/miniconda3/envs/oneAPI-AIKit-MLPackage/lib/python3.7/site-packages/pandas/core/frame.py:4913: SettingWithCopyWarning: \n",
      "A value is trying to be set on a copy of a slice from a DataFrame\n",
      "\n",
      "See the caveats in the documentation: https://pandas.pydata.org/pandas-docs/stable/user_guide/indexing.html#returning-a-view-versus-a-copy\n",
      "  errors=errors,\n"
     ]
    }
   ],
   "source": [
    "import joblib\n",
    "from sklearn.preprocessing import LabelEncoder\n",
    "import requests\n",
    "from io import StringIO\n",
    "import numpy as np\n",
    "import os\n",
    "import pandas as pd\n",
    "\n",
    "\"\"\"\n",
    "Run inference on model\n",
    "\"\"\"\n",
    "\n",
    "# Log server\n",
    "# Configure the logging settings\n",
    "logging.basicConfig(filename='waverx_analysis.log', level=logging.INFO, format='%(asctime)s - %(levelname)s - %(name)s - %(message)s')\n",
    "\n",
    "# Create a logger instance\n",
    "logger = logging.getLogger('waverx_nlp')\n",
    "\n",
    "\n",
    "\n",
    "# Load the model from file\n",
    "model = joblib.load('model/waverX-Analysis.pkl')\n",
    "\n",
    "# Set test Visual crossing weather API key\n",
    "os.environ[\"API_KEY\"]=\"R9M7HHCH4EDADEUBCU3ZENKXN\"\n",
    "\n",
    "def fetch_climate_data(location, start_date, end_date, disaster_type, api_key):\n",
    "    \"\"\"\n",
    "    Fetching climate data at specified time to run inference\n",
    "    \"\"\"\n",
    "    API_URL = 'https://weather.visualcrossing.com/VisualCrossingWebServices/rest/services/timeline/'\n",
    "    \n",
    "    start_date = \"{}T00:00:00Z\".format(start_date)\n",
    "    end_date = \"{}T23:59:59Z\".format(end_date)\n",
    "    \n",
    "    if not api_key:\n",
    "        api_key = os.getenv(\"API_KEY\")\n",
    "\n",
    "    params = {\n",
    "        \"location\": location,\n",
    "        \"startTime\": start_date,  # start date of disaster\n",
    "        \"endTime\": end_date,  # end date of disaster\n",
    "        \"key\": api_key,\n",
    "        \"include\": \"days\",\n",
    "        \"contentType\": \"csv\",\n",
    "        \"elements\": \"tempmax,tempmin,dew,temp,windspeedmin,windspeedmax,windspeedmean,winddir,humidity,conditions,precip,cloudcover,pressure,precipcover\"\n",
    "    }\n",
    "    climate_data_req = requests.get(API_URL, params=params)\n",
    "    if climate_data_req.status_code != 200:\n",
    "        print(\"Fetching climate data failed\")\n",
    "        print(climate_data_req.text)\n",
    "        return climate_data_req.text\n",
    "    print(\"Data pulled successfully\")\n",
    "    climate_data_req = climate_data_req.text\n",
    "    climate_data_csv = StringIO(climate_data_req)\n",
    "    data_df = pd.read_csv(climate_data_csv)\n",
    "    # Filter specific columns\n",
    "    filtered_df = data_df[[\"tempmax\", \"tempmin\", \"dew\", \"temp\", \"windspeedmin\", \"windspeedmax\",\n",
    "                          \"windspeedmean\", \"winddir\", \"humidity\", \"conditions\", \"precip\", \"cloudcover\", \"sealevelpressure\", \"precipcover\"]]\n",
    "    filtered_df.insert(0, \"Disaster Type\", disaster_type)\n",
    "    # Calculate relative humidty min, max and mean\n",
    "    humidity_min = filtered_df[\"humidity\"] - 2\n",
    "    humidity_max = filtered_df[\"humidity\"] + 2\n",
    "    humidity_mean = (humidity_max + humidity_min) / 2\n",
    "    \n",
    "    # Set data columns to dataset columns\n",
    "    dataset_columns = {\"tempmin\": \"Minimum Temperature\", \"tempmax\": \"Maximum Temperature\", \"dew\": \"Dew Point\", \"temp\": \"Temperature\", \"windspeedmin\": \"Wind Speed Min\",\n",
    "               \"windspeedmax\": \"Wind Speed Max\", \"windspeedmean\": \"Wind Speed Mean\", \"winddir\": \"Wind Direction\", \"conditions\": \"Weather Type\",\n",
    "               \"precip\": \"Precipitation\", \"cloudcover\": \"Cloud Cover\", \"sealevelpressure\": \"Sea Level Pressure\", \"precipcover\": \"Precipitation Cover\"}\n",
    "    \n",
    "    filtered_df.rename(columns=dataset_columns, inplace=True)\n",
    "    filtered_df[\"Relative Humidity Min\"] = humidity_min\n",
    "    filtered_df[\"Relative Humidity Max\"] = humidity_max\n",
    "    filtered_df[\"Relative Humidity Mean\"] = humidity_mean\n",
    "    filtered_df.drop(columns=[\"humidity\"], inplace=True)\n",
    "    return filtered_df\n",
    "\n",
    "def predict(location, start_date, end_date, disaster_type, api_key):\n",
    "    climate_data_df = fetch_climate_data(location, start_date, end_date, disaster_type, api_key)\n",
    "    if type(climate_data_df) == str:\n",
    "        print(\"Prediction failed\")\n",
    "        return climate_data_df\n",
    "    \n",
    "    if disaster_type == \"Earthquake\":\n",
    "        climate_data_df[\"Magnitude Scale\"] = \"Richter\"\n",
    "    elif disaster_type == \"Storm\":\n",
    "        climate_data_df[\"Magnitude Scale\"] = \"Kph\"\n",
    "    else:\n",
    "        climate_data_df[\"Magnitude Scale\"] = \"Km2\"\n",
    "    # Encode  string values\n",
    "    label_encoder = LabelEncoder()\n",
    "    climate_data_df['Encoded Magnitude Scale'] = label_encoder.fit_transform(climate_data_df['Magnitude Scale'])\n",
    "    climate_data_df['Encoded Disaster Type'] = label_encoder.fit_transform(climate_data_df['Disaster Type'])\n",
    "    climate_data_df['Encoded Weather Type'] = label_encoder.fit_transform(climate_data_df['Weather Type'])\n",
    "    \n",
    "    # Drop NaN values\n",
    "    climate_data_df.dropna(inplace=True)\n",
    "    \n",
    "    X = climate_data_df.drop(columns=[\"Disaster Type\", \"Weather Type\",  \"Magnitude Scale\"], axis=1)\n",
    "\n",
    "    \n",
    "    predictions = model.predict(X)\n",
    "    converted_pred = []\n",
    "    if disaster_type == \"Flood\":\n",
    "        # Multiply by 1600000 and divide maximum sea level pressure to get km2 value\n",
    "        for mag in predictions:\n",
    "            mag = round((mag * 1600000) / max(climate_data_df['Sea Level Pressure']))\n",
    "            converted_pred.append(mag)\n",
    "    elif disaster_type == \"Storm\":\n",
    "        # Multiply by 30 to get Kph value\n",
    "        for mag in predictions:\n",
    "            mag = round(mag * 300)\n",
    "            converted_pred.append(mag)\n",
    "    elif disaster_type == \"Earthquake\":\n",
    "        # Multiply by 9 to get richter value\n",
    "        for mag in predictions:\n",
    "            mag = round(mag * 9)\n",
    "            converted_pred.append(mag)\n",
    "    else:\n",
    "        converted_pred = predictions\n",
    "    num_array = np.array(converted_pred)\n",
    "    min_pred = np.min(num_array)\n",
    "    max_pred = np.max(num_array)\n",
    "    print(f\"waverX-Analysis model prediction for {disaster_type}\")\n",
    "    print(f\"Minimum predicted magnitude: {min_pred} {climate_data_df['Magnitude Scale'][0]}\")\n",
    "    print(f\"Maximum predicted magnitude: {max_pred} {climate_data_df['Magnitude Scale'][0]}\")\n",
    "\n",
    "# Example usage\n",
    "if __name__ == \"__main__\":\n",
    "    # Location in Latitude,Longitude format\n",
    "    # Dates in yyyy-mm-dd format\n",
    "    predict(\"80.41,85.9\", start_date=\"2023-01-16\", end_date=\"2023-01-17\", disaster_type=\"Flood\", api_key=os.getenv(\"API_KEY\"))"
   ]
  },
  {
   "cell_type": "markdown",
   "id": "65b1831f-6143-4b68-b648-d374d772ee60",
   "metadata": {
    "tags": []
   },
   "source": [
    "## Model Server"
   ]
  },
  {
   "cell_type": "code",
   "execution_count": null,
   "id": "3aa93c8b-018f-43e0-a384-6d54e6dbeb2f",
   "metadata": {},
   "outputs": [
    {
     "name": "stdout",
     "output_type": "stream",
     "text": [
      " * Serving Flask app '__main__'\n",
      " * Debug mode: off\n",
      "Data pulled successfully\n"
     ]
    }
   ],
   "source": [
    "#!/usr/bin/python3\n",
    "\"\"\" Flask Application \"\"\"\n",
    "\n",
    "from os import environ\n",
    "from flask import Flask, jsonify, request, make_response\n",
    "from flask_cors import CORS\n",
    "import  prediction\n",
    "import json\n",
    "\n",
    "# Configure the logging settings\n",
    "logging.basicConfig(filename='waverx_analysis.log', level=logging.INFO, format='%(asctime)s - %(levelname)s - %(name)s - %(message)s')\n",
    "# Create a logger instance\n",
    "logger = logging.getLogger('waverx_analysis')\n",
    "\n",
    "app = Flask(__name__)\n",
    "app.config['JSONIFY_PRETTYPRINT_REGULAR'] = True\n",
    "cors = CORS(app, resources={r\"/api/v1/*\": {\"origins\": \"*\"}})\n",
    "\n",
    "@app.route(\"/api/v1/analysis/model/waverx\", methods=['POST'], strict_slashes=False)\n",
    "def model_inference():\n",
    "    location = request.form['location']\n",
    "    start_date = request.form['startDate']\n",
    "    end_date = request.form['endDate']\n",
    "    disaster_type = request.form['disasterType']\n",
    "    key = request.form[\"apiKey\"]\n",
    "    return jsonify(prediction.predict(location, start_date, end_date, disaster_type, key))\n",
    "\n",
    "@app.route(\"/api/v1/analysis/model/waverx/status\", strict_slashes=False)\n",
    "def model_status():\n",
    "    return jsonify({\"status\": \"OK\"})\n",
    "\n",
    "@app.errorhandler(404)\n",
    "def not_found(error):\n",
    "    \"\"\" 404 Error\n",
    "    ---\n",
    "    responses:\n",
    "      404:\n",
    "        description: a resource was not found\n",
    "    \"\"\"\n",
    "    return make_response(jsonify({'error': \"Not found\"}), 404)\n",
    "\n",
    "\n",
    "\n",
    "if __name__ == \"__main__\":\n",
    "    \"\"\" Main Function \"\"\"\n",
    "    host = environ.get('MODEL_HOST')\n",
    "    port = environ.get('MODEL_PORT')\n",
    "    if not host:\n",
    "        host = '0.0.0.0'\n",
    "    if not port:\n",
    "        port = '5000'\n",
    "    app.run(host=host, port=port, threaded=True)\n",
    "    \n"
   ]
  },
  {
   "cell_type": "code",
   "execution_count": null,
   "id": "cfa08cdb-4331-4012-9289-bc177df02d6a",
   "metadata": {},
   "outputs": [],
   "source": []
  },
  {
   "cell_type": "code",
   "execution_count": null,
   "id": "6a0cdb67-a7cd-4ac7-99f9-12cb207bad2c",
   "metadata": {},
   "outputs": [],
   "source": []
  }
 ],
 "metadata": {
  "kernelspec": {
   "display_name": "Intel SKLearn, XGBoost, & Modin",
   "language": "python",
   "name": "oneapi-aikit-mlpackage"
  },
  "language_info": {
   "codemirror_mode": {
    "name": "ipython",
    "version": 3
   },
   "file_extension": ".py",
   "mimetype": "text/x-python",
   "name": "python",
   "nbconvert_exporter": "python",
   "pygments_lexer": "ipython3",
   "version": "3.7.12"
  }
 },
 "nbformat": 4,
 "nbformat_minor": 5
}
